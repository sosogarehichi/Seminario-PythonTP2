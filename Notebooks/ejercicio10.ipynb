{
 "cells": [
  {
   "cell_type": "markdown",
   "metadata": {},
   "source": [
    "# 10. Simulación de partidas y ranking en shooter online\n",
    "\n",
    " Simule varias partidas de un juego de disparos y genere un ranking basado en el puntaje\n",
    " total de cada jugador. Se utilizará el siguiente sistema de puntuación:\n",
    "\n",
    " Acción       Puntos\n",
    " - Kill:          3\n",
    " - Asistencia:    1\n",
    " - Muerte:       -1\n",
    "\n",
    "```\n",
    " Imprima las tablas de resultados luego de la inserción de cada una de las rondas pudiendo\n",
    " ver el progreso en el equipo.\n",
    " Además cada ronda debe tener un MVP (Mejor Jugador del Partido/ronda) basado en su\n",
    " puntuación. La cantidad de veces que el jugador ha sido MVP también se debe contabilizar\n",
    " Se debe imprimir el total de kills, asistencias, muertes, cantidad de MVP y puntos totales. La\n",
    " tabla tienen que estar en orden decreciente por los puntos totales.\n",
    " ```\n",
    "\n"
   ]
  },
  {
   "cell_type": "code",
   "execution_count": 1,
   "metadata": {},
   "outputs": [],
   "source": [
    "rounds = [\n",
    " {\n",
    " 'Shadow': {'kills': 2, 'assists': 1, 'deaths': True},\n",
    " 'Blaze': {'kills': 1, 'assists': 0, 'deaths': False},\n",
    " 'Viper': {'kills': 1, 'assists': 2, 'deaths': True},\n",
    " 'Frost': {'kills': 0, 'assists': 1, 'deaths': False},\n",
    " 'Reaper': {'kills': 1, 'assists': 1, 'deaths': False}\n",
    " },\n",
    " {\n",
    " 'Shadow': {'kills': 0, 'assists': 2, 'deaths': False},\n",
    " 'Blaze': {'kills': 2, 'assists': 0, 'deaths': True},\n",
    " 'Viper': {'kills': 1, 'assists': 1, 'deaths': False},\n",
    " 'Frost': {'kills': 2, 'assists': 1, 'deaths': True},\n",
    " 'Reaper': {'kills': 0, 'assists': 1, 'deaths': False}\n",
    " },\n",
    " {\n",
    " 'Shadow': {'kills': 1, 'assists': 0, 'deaths': False},\n",
    " 'Blaze': {'kills': 2, 'assists': 2, 'deaths': True},\n",
    " 'Viper': {'kills': 1, 'assists': 1, 'deaths': True},\n",
    " 'Frost': {'kills': 0, 'assists': 1, 'deaths': False},\n",
    " 'Reaper': {'kills': 1, 'assists': 1, 'deaths': False}\n",
    " },\n",
    " {\n",
    " 'Shadow': {'kills': 2, 'assists': 1, 'deaths': False},\n",
    " 'Blaze': {'kills': 1, 'assists': 0, 'deaths': True},\n",
    " 'Viper': {'kills': 0, 'assists': 2, 'deaths': False},\n",
    " 'Frost': {'kills': 1, 'assists': 1, 'deaths': True},\n",
    " 'Reaper': {'kills': 1, 'assists': 1, 'deaths': False}\n",
    " },\n",
    " {\n",
    " 'Shadow': {'kills': 1, 'assists': 2, 'deaths': True},\n",
    " 'Blaze': {'kills': 0, 'assists': 1, 'deaths': False},\n",
    " 'Viper': {'kills': 2, 'assists': 0, 'deaths': True},\n",
    " 'Frost': {'kills': 1, 'assists': 1, 'deaths': False},\n",
    " 'Reaper': {'kills': 1, 'assists': 1, 'deaths': True}\n",
    " }\n",
    "]\n"
   ]
  }
 ],
 "metadata": {
  "kernelspec": {
   "display_name": "Python 3 (ipykernel)",
   "language": "python",
   "name": "python3"
  },
  "language_info": {
   "codemirror_mode": {
    "name": "ipython",
    "version": 3
   },
   "file_extension": ".py",
   "mimetype": "text/x-python",
   "name": "python",
   "nbconvert_exporter": "python",
   "pygments_lexer": "ipython3",
   "version": "3.12.9"
  }
 },
 "nbformat": 4,
 "nbformat_minor": 2
}
